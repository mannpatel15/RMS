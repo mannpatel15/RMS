{
 "cells": [
  {
   "cell_type": "code",
   "execution_count": 1,
   "id": "5cf60c82",
   "metadata": {},
   "outputs": [],
   "source": [
    "# generate_cd_vector.py\n",
    "\n",
    "import pandas as pd\n",
    "\n",
    "def generate_cd_vector(keystrokes_df, mouse_move_df, mouse_click_df, label):\n",
    "    cd_vector = {}\n",
    "\n",
    "    cd_vector[\"MeanHoldTime\"] = keystrokes_df[\"HoldTime\"].mean()\n",
    "    cd_vector[\"StdHoldTime\"] = keystrokes_df[\"HoldTime\"].std()\n",
    "\n",
    "    cd_vector[\"MeanSpeed\"] = mouse_move_df[\"Speed\"].mean()\n",
    "    cd_vector[\"StdSpeed\"] = mouse_move_df[\"Speed\"].std()\n",
    "    cd_vector[\"MeanAcceleration\"] = mouse_move_df[\"Acceleration\"].mean()\n",
    "    cd_vector[\"StdAcceleration\"] = mouse_move_df[\"Acceleration\"].std()\n",
    "\n",
    "    cd_vector[\"MeanClickDuration\"] = mouse_click_df[\"ClickDuration\"].mean()\n",
    "    cd_vector[\"StdClickDuration\"] = mouse_click_df[\"ClickDuration\"].std()\n",
    "\n",
    "    cd_vector[\"Label\"] = label\n",
    "\n",
    "    return pd.DataFrame([cd_vector])\n",
    "\n"
   ]
  }
 ],
 "metadata": {
  "kernelspec": {
   "display_name": "Python 3",
   "language": "python",
   "name": "python3"
  },
  "language_info": {
   "codemirror_mode": {
    "name": "ipython",
    "version": 3
   },
   "file_extension": ".py",
   "mimetype": "text/x-python",
   "name": "python",
   "nbconvert_exporter": "python",
   "pygments_lexer": "ipython3",
   "version": "3.11.2"
  }
 },
 "nbformat": 4,
 "nbformat_minor": 5
}
