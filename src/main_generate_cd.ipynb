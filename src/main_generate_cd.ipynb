{
 "cells": [
  {
   "cell_type": "code",
   "execution_count": 2,
   "id": "2db2e85a",
   "metadata": {},
   "outputs": [
    {
     "name": "stdout",
     "output_type": "stream",
     "text": [
      "\n",
      "✅ CD vector generated successfully!\n",
      "   MeanHoldTime  StdHoldTime    MeanSpeed     StdSpeed  MeanAcceleration  \\\n",
      "0      0.162294     0.200014  1545.103786  2088.577466     141986.019908   \n",
      "\n",
      "   StdAcceleration  MeanClickDuration  StdClickDuration  Label  \n",
      "0     5.656085e+06            0.08419          0.039729      1  \n"
     ]
    }
   ],
   "source": [
    "import sys\n",
    "import os\n",
    "import pandas as pd\n",
    "\n",
    "# Add current directory to path (since you're in src/)\n",
    "src_path = os.path.abspath(\".\")\n",
    "if src_path not in sys.path:\n",
    "    sys.path.append(src_path)\n",
    "\n",
    "from generate_cd_vector import generate_cd_vector\n",
    "\n",
    "# Load extracted features\n",
    "keystrokes_df = pd.read_csv(\"../data/keystroke_features.csv\")\n",
    "mouse_speed_accel_df = pd.read_csv(\"../data/mouse_motion_features.csv\")\n",
    "mouse_click_df = pd.read_csv(\"../data/mouse_click_features.csv\")\n",
    "\n",
    "# Generate CD vector\n",
    "cd_vector = generate_cd_vector(keystrokes_df, mouse_speed_accel_df, mouse_click_df, label=1)\n",
    "\n",
    "# Save to CSV\n",
    "cd_vector.to_csv(\"../data/cd_vector.csv\", index=False)\n",
    "\n",
    "print(\"\\n✅ CD vector generated successfully!\")\n",
    "print(cd_vector)\n"
   ]
  }
 ],
 "metadata": {
  "kernelspec": {
   "display_name": "Python 3",
   "language": "python",
   "name": "python3"
  },
  "language_info": {
   "codemirror_mode": {
    "name": "ipython",
    "version": 3
   },
   "file_extension": ".py",
   "mimetype": "text/x-python",
   "name": "python",
   "nbconvert_exporter": "python",
   "pygments_lexer": "ipython3",
   "version": "3.11.2"
  }
 },
 "nbformat": 4,
 "nbformat_minor": 5
}
